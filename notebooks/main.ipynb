{
 "cells": [
  {
   "cell_type": "markdown",
   "metadata": {},
   "source": [
    "## BUSINESS INTELLIGENCE ANALYSIS"
   ]
  },
  {
   "cell_type": "markdown",
   "metadata": {},
   "source": [
    "#### Business Understanding\n",
    "The client collected transactional sales data throughout 2019 but has not yet maximized its potential to inform business decisions. Their objective is to gain actionable insights from this data, particularly to boost sales and improve operational efficiency.\n",
    "\n",
    "The client’s primary goals involve analyzing key performance indicators to understand sales patterns, identify top and underperforming products, evaluate geographic distribution, and categorize products based on pricing. By doing this, they hope to uncover trends that can shape future strategies and optimize decision-making processes.\n",
    "\n",
    "#### Problem Statement:\n",
    "The client has accumulated a full year’s worth of transactional data for 2019 but has been unable to leverage it effectively to make informed business decisions. Without proper analysis, they lack insights into key metrics like total revenue, sales trends, best and worst-selling products, geographic distribution of orders, and performance of product categories. This lack of visibility prevents the client from identifying opportunities to drive sales, optimize operations, and make data-driven decisions.\n",
    "\n",
    "#### Project Goal\n",
    "The business goal is to design and deliver a comprehensive Business Intelligence (BI) solution that analyzes the client’s 2019 transactional data to uncover insights into sales performance, product trends, and customer behavior. The objective is to provide actionable insights that will help the client increase sales, optimize operations, and make informed, data-driven decisions.\n",
    "\n",
    "#### Hypothesis\n",
    "- Null Hypothesis (H₀): There is no significant variation in the total revenue generated across different months in 2019.\n",
    "- Alternative Hypothesis (H₁): There is a significant variation in the total revenue generated across different months in 2019.\n",
    "\n",
    "##### Key Business Questions:\n",
    "- Revenue Analysis: How much total revenue was generated in 2019? This involves calculating the sum of sales and identifying peaks and lows in earnings.\n",
    "- Seasonality: Are there seasonal patterns in sales? Identifying whether sales fluctuate during certain times of the year (months, quarters) can guide inventory and marketing strategies.\n",
    "- Product Performance: Which products are the best and worst sellers? This analysis will inform product lifecycle decisions, promotion strategies, and possible discontinuation of low-performing items.\n",
    "- Sales Trends: How do sales compare across different periods (monthly, weekly)? Trends over time will provide insights into growth patterns or slow periods.\n",
    "- Geographic Insights: What cities receive the most product deliveries? Knowing the geographic hotspots can help in resource allocation, marketing efforts, and logistical planning.\n",
    "- Product Categories: How do product categories perform in terms of revenue and quantity ordered? Understanding which categories drive the most value will assist in shaping inventory and marketing priorities.\n",
    "\n",
    "#### Features\n",
    "- Order_ID: It is the unique number of a purchased product\n",
    "- Product: Type of product purchased.\n",
    "- Quantity_Ordered: Number of products purchased\n",
    "- Price_Each: Price per unit of each product purchased\n",
    "- Order_Date: The date the product was purchased\n",
    "- Purchase_Address: The address of the customer\n"
   ]
  }
 ],
 "metadata": {
  "language_info": {
   "name": "python"
  }
 },
 "nbformat": 4,
 "nbformat_minor": 2
}
